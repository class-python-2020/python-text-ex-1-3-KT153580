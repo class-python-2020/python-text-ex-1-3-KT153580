{
 "metadata": {
  "language_info": {
   "codemirror_mode": {
    "name": "ipython",
    "version": 3
   },
   "file_extension": ".py",
   "mimetype": "text/x-python",
   "name": "python",
   "nbconvert_exporter": "python",
   "pygments_lexer": "ipython3",
   "version": "3.8.2-final"
  },
  "orig_nbformat": 2,
  "kernelspec": {
   "name": "python_defaultSpec_1598144465075",
   "display_name": "Python 3.8.2 32-bit"
  }
 },
 "nbformat": 4,
 "nbformat_minor": 2,
 "cells": [
  {
   "cell_type": "code",
   "execution_count": 1,
   "metadata": {},
   "outputs": [],
   "source": [
    "import sqlite3\n",
    "\n",
    "# sample.db という名前のデータベースファイル\n",
    "db = 'samlpe.db'\n",
    "\n",
    "# データベースに接続：Connectionオブジェクトを作成\n",
    "# データベースがすでに存在するときはそのまま接続\n",
    "# データベースがないときは新しく作成して接続\n",
    "con = sqlite3.connect(db)\n",
    "\n",
    "# カーソルオブジェクトを作成    \n",
    "csr = con.cursor()\n",
    "\n",
    "# テーブルを作成\n",
    "sql = 'create table Employee(name,email,department,position);'\n",
    "csr.execute(sql)\n",
    "\n",
    "# 保存\n",
    "con.commit()\n",
    "\n",
    "# 接続を終了\n",
    "con.close()"
   ]
  },
  {
   "cell_type": "code",
   "execution_count": 4,
   "metadata": {},
   "outputs": [
    {
     "output_type": "error",
     "ename": "OperationalError",
     "evalue": "no such table: Employee",
     "traceback": [
      "\u001b[1;31m---------------------------------------------------------------------------\u001b[0m",
      "\u001b[1;31mOperationalError\u001b[0m                          Traceback (most recent call last)",
      "\u001b[1;32m<ipython-input-4-128300f3a2ab>\u001b[0m in \u001b[0;36m<module>\u001b[1;34m\u001b[0m\n\u001b[0;32m     13\u001b[0m \u001b[1;31m# テーブルにデータを格納\u001b[0m\u001b[1;33m\u001b[0m\u001b[1;33m\u001b[0m\u001b[1;33m\u001b[0m\u001b[0m\n\u001b[0;32m     14\u001b[0m \u001b[0msql\u001b[0m \u001b[1;33m=\u001b[0m \u001b[1;34m\"insert into Employee(name, email, department, position) values('Yamada', 'yamada@abcxyz.co.jp', 'Sales', 'staff');\"\u001b[0m\u001b[1;33m\u001b[0m\u001b[1;33m\u001b[0m\u001b[0m\n\u001b[1;32m---> 15\u001b[1;33m \u001b[0mcsr\u001b[0m\u001b[1;33m.\u001b[0m\u001b[0mexecute\u001b[0m\u001b[1;33m(\u001b[0m\u001b[0msql\u001b[0m\u001b[1;33m)\u001b[0m\u001b[1;33m\u001b[0m\u001b[1;33m\u001b[0m\u001b[0m\n\u001b[0m\u001b[0;32m     16\u001b[0m \u001b[0msql\u001b[0m \u001b[1;33m=\u001b[0m \u001b[1;34m\"insert into Employee(name, email, department, position) values('Suzuki', 'suzuki@abcxyz.co.jp', 'Development', 'staff');\"\u001b[0m\u001b[1;33m\u001b[0m\u001b[1;33m\u001b[0m\u001b[0m\n\u001b[0;32m     17\u001b[0m \u001b[0mcsr\u001b[0m\u001b[1;33m.\u001b[0m\u001b[0mexecute\u001b[0m\u001b[1;33m(\u001b[0m\u001b[0msql\u001b[0m\u001b[1;33m)\u001b[0m\u001b[1;33m\u001b[0m\u001b[1;33m\u001b[0m\u001b[0m\n",
      "\u001b[1;31mOperationalError\u001b[0m: no such table: Employee"
     ]
    }
   ],
   "source": [
    "# データの追加・読み取り・更新・削除\n",
    "import sqlite3\n",
    "\n",
    "# sample.db という名前のデータベースファイル\n",
    "db = 'sample.db'\n",
    "\n",
    "# データベースに接続\n",
    "con = sqlite3.connect(db)\n",
    "\n",
    "# カーソルオブジェクト作成\n",
    "csr = con.cursor()\n",
    "\n",
    "# テーブルにデータを格納\n",
    "sql = \"insert into Employee(name, email, department, position) values('Yamada', 'yamada@abcxyz.co.jp', 'Sales', 'staff');\"\n",
    "csr.execute(sql)\n",
    "sql = \"insert into Employee(name, email, department, position) values('Suzuki', 'suzuki@abcxyz.co.jp', 'Development', 'staff');\"\n",
    "csr.execute(sql)\n",
    "\n",
    "# この時点の内容確認\n",
    "sql = \"select * from Employee;\"\n",
    "csr.execute(sql)\n",
    "print(csr.fetchall())\n",
    "\n",
    "# テーブルからデータを削除\n",
    "sql = \"delete from Employee where name = 'Yamada';\"\n",
    "csr.execute(sql)\n",
    "\n",
    "# この時点の内容確認\n",
    "sql = \"select * from Employee;\"\n",
    "csr.execute(sql)\n",
    "print(csr.fetchall())\n",
    "\n",
    "# テーブル中のデータを更新\n",
    "sql = \"update Employee set position = 'Manager' where name = 'Suzuki';\"\n",
    "csr.execute(sql)\n",
    "\n",
    "# 保存\n",
    "con.commit()\n",
    "\n",
    "# 内容を読み取って表示\n",
    "sql = \"select * from Employee;\"\n",
    "csr.execute(sql)\n",
    "print(csr.fetchall())\n",
    "\n",
    "# 接続を終了\n",
    "con.close()"
   ]
  },
  {
   "cell_type": "code",
   "execution_count": null,
   "metadata": {},
   "outputs": [],
   "source": [
    "csr.execute('drop table data_set')\n",
    "con.commit()"
   ]
  },
  {
   "cell_type": "code",
   "execution_count": 6,
   "metadata": {
    "tags": []
   },
   "outputs": [
    {
     "output_type": "stream",
     "name": "stdout",
     "text": "[('Ichiro', 'Lazer'), ('Jiro', None), ('Saburo', None)]\n"
    }
   ],
   "source": [
    "import sqlite3\n",
    "\n",
    "db = 'tast.db'\n",
    "con = sqlite3.connect(db)\n",
    "csr = con.cursor()\n",
    "\n",
    "csr.execute('create table human(name, nickname);')\n",
    "\n",
    "csr.execute(\"insert into human(name) values('Ichiro');\")\n",
    "csr.execute(\"insert into human(name) values('Jiro');\")\n",
    "csr.execute(\"insert into human(name) values('Saburo');\")\n",
    "\n",
    "csr.execute(\"update human set nickname = 'Lazer' where name = 'Ichiro';\")\n",
    "\n",
    "csr.execute(\"select * from human\")\n",
    "print(csr.fetchall())\n",
    "\n",
    "con.commit()\n",
    "con.close()"
   ]
  },
  {
   "cell_type": "code",
   "execution_count": 7,
   "metadata": {
    "tags": []
   },
   "outputs": [
    {
     "output_type": "stream",
     "name": "stdout",
     "text": "[('Saburo', None)]\n"
    }
   ],
   "source": [
    "import sqlite3\n",
    "\n",
    "db = 'tast.db'\n",
    "con = sqlite3.connect(db)\n",
    "csr = con.cursor()\n",
    "\n",
    "csr.execute(\"update human set nickname = 'Lazer' where name = 'Jiro';\")\n",
    "\n",
    "csr.execute(\"delete from human where nickname = 'Lazer';\")\n",
    "\n",
    "csr.execute(\"select * from human;\")\n",
    "print(csr.fetchall())\n",
    "\n",
    "con.commit()\n",
    "con.close()"
   ]
  },
  {
   "cell_type": "code",
   "execution_count": null,
   "metadata": {},
   "outputs": [],
   "source": []
  }
 ]
}