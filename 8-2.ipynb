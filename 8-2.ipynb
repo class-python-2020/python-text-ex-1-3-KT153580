{
 "metadata": {
  "language_info": {
   "codemirror_mode": {
    "name": "ipython",
    "version": 3
   },
   "file_extension": ".py",
   "mimetype": "text/x-python",
   "name": "python",
   "nbconvert_exporter": "python",
   "pygments_lexer": "ipython3",
   "version": "3.8.2-final"
  },
  "orig_nbformat": 2,
  "kernelspec": {
   "name": "python_defaultSpec_1598142172510",
   "display_name": "Python 3.8.2 32-bit"
  }
 },
 "nbformat": 4,
 "nbformat_minor": 2,
 "cells": [
  {
   "cell_type": "code",
   "execution_count": 1,
   "metadata": {},
   "outputs": [],
   "source": [
    "import pathlib\n",
    "p = pathlib.Path('.')"
   ]
  },
  {
   "cell_type": "code",
   "execution_count": 2,
   "metadata": {},
   "outputs": [],
   "source": [
    "import pathlib\n",
    "file = pathlib.Path('sample.txt')"
   ]
  },
  {
   "cell_type": "code",
   "execution_count": 3,
   "metadata": {},
   "outputs": [
    {
     "output_type": "execute_result",
     "data": {
      "text/plain": "WindowsPath('C:/Users/kotaro/AppData/Local/Programs/Microsoft VS Code')"
     },
     "metadata": {},
     "execution_count": 3
    }
   ],
   "source": [
    "p.resolve()"
   ]
  },
  {
   "cell_type": "code",
   "execution_count": 4,
   "metadata": {},
   "outputs": [],
   "source": [
    "q = pathlib.Path('sample.txt')\n",
    "qs = str(q)"
   ]
  },
  {
   "cell_type": "code",
   "execution_count": 5,
   "metadata": {
    "tags": []
   },
   "outputs": [
    {
     "output_type": "stream",
     "name": "stdout",
     "text": "bin\nchrome_100_percent.pak\nchrome_200_percent.pak\nCode.exe\nCode.VisualElementsManifest.xml\nd3dcompiler_47.dll\nffmpeg.dll\nicudtl.dat\nlibEGL.dll\nlibGLESv2.dll\nlocales\nnatives_blob.bin\nout_test.txt\nresources\nresources.pak\nsnapshot_blob.bin\nswiftshader\ntools\nunins000.dat\nunins000.exe\nunins000.msg\nv8_context_snapshot.bin\n"
    }
   ],
   "source": [
    "import pathlib\n",
    "p = pathlib.Path('.')\n",
    "for fd in p.iterdir():\n",
    "    print(fd)"
   ]
  },
  {
   "cell_type": "code",
   "execution_count": 6,
   "metadata": {
    "tags": []
   },
   "outputs": [
    {
     "output_type": "stream",
     "name": "stdout",
     "text": "[]\n"
    }
   ],
   "source": [
    "import pathlib\n",
    "p = pathlib.Path('.')\n",
    "print(list(p.glob('*.py')))"
   ]
  },
  {
   "cell_type": "code",
   "execution_count": 7,
   "metadata": {
    "tags": []
   },
   "outputs": [
    {
     "output_type": "stream",
     "name": "stdout",
     "text": "False\n"
    }
   ],
   "source": [
    "import pathlib\n",
    "file = pathlib.Path('aaa/bbb.txt')\n",
    "print(file.exists())"
   ]
  },
  {
   "cell_type": "code",
   "execution_count": 8,
   "metadata": {
    "tags": []
   },
   "outputs": [
    {
     "output_type": "stream",
     "name": "stdout",
     "text": "\\aaa\\test.txt\n"
    }
   ],
   "source": [
    "import pathlib\n",
    "root = pathlib.Path('/')\n",
    "pp = root / 'aaa' / 'test.txt'\n",
    "print(pp)"
   ]
  },
  {
   "cell_type": "code",
   "execution_count": 9,
   "metadata": {
    "tags": []
   },
   "outputs": [
    {
     "output_type": "stream",
     "name": "stdout",
     "text": "..\n"
    }
   ],
   "source": [
    "import pathlib\n",
    "p = pathlib.Path('.')\n",
    "pp = p.joinpath('..')\n",
    "print(pp)"
   ]
  },
  {
   "cell_type": "code",
   "execution_count": 10,
   "metadata": {
    "tags": []
   },
   "outputs": [
    {
     "output_type": "stream",
     "name": "stdout",
     "text": "chrome_100_percent.pak\nchrome_200_percent.pak\nCode.exe\nCode.VisualElementsManifest.xml\nd3dcompiler_47.dll\nffmpeg.dll\nicudtl.dat\nlibEGL.dll\nlibGLESv2.dll\nnatives_blob.bin\nout_test.txt\nresources.pak\nsnapshot_blob.bin\nunins000.dat\nunins000.exe\nunins000.msg\nv8_context_snapshot.bin\n"
    }
   ],
   "source": [
    "import pathlib\n",
    "p = pathlib.Path('.')\n",
    "for pf in p.iterdir():\n",
    "    if pf.is_file():\n",
    "        print(str(pf))"
   ]
  },
  {
   "cell_type": "code",
   "execution_count": 12,
   "metadata": {},
   "outputs": [],
   "source": [
    "import pathlib\n",
    "p = pathlib.Path('.')\n",
    "for pf in p.glob('a*'):\n",
    "    if pf.is_dir():\n",
    "        print(pf)"
   ]
  },
  {
   "cell_type": "code",
   "execution_count": null,
   "metadata": {},
   "outputs": [],
   "source": []
  }
 ]
}